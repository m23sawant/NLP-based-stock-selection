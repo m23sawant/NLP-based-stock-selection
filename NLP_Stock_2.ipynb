{
  "nbformat": 4,
  "nbformat_minor": 0,
  "metadata": {
    "colab": {
      "name": "NLP_Stock_2",
      "provenance": [],
      "toc_visible": true,
      "authorship_tag": "ABX9TyOynQNq0IZW1E/H6nqRCPxe",
      "include_colab_link": true
    },
    "kernelspec": {
      "name": "python3",
      "display_name": "Python 3"
    },
    "accelerator": "GPU"
  },
  "cells": [
    {
      "cell_type": "markdown",
      "metadata": {
        "id": "view-in-github",
        "colab_type": "text"
      },
      "source": [
        "<a href=\"https://colab.research.google.com/github/mayuresh23sawant/NLP-based-stock-selection/blob/master/NLP_Stock_2.ipynb\" target=\"_parent\"><img src=\"https://colab.research.google.com/assets/colab-badge.svg\" alt=\"Open In Colab\"/></a>"
      ]
    },
    {
      "cell_type": "markdown",
      "metadata": {
        "id": "nyrUWfc-EMRP",
        "colab_type": "text"
      },
      "source": [
        "# NLP Based Stock Selection Model"
      ]
    },
    {
      "cell_type": "markdown",
      "metadata": {
        "id": "OyWgQwoZENtA",
        "colab_type": "text"
      },
      "source": [
        "This project is based on the paper [Lazy Prices](https://ssrn.com/abstract=3254078\n",
        ") by Lauren Cohen, Christopher Malloy, and Quoc Nguyen. \n",
        "\n",
        "In the paper, they show that when firms make an active change in their reporting practices, this conveys an important signal about future firm operations. Changes to the language and construction of financial reports also have strong implications for firms’ future returns: a portfolio that shorts “changers” and buys “non-changers” earns up to 188 basis points in monthly alphas (over 22% per year) in the future.\n",
        "\n",
        "Here, I will only use the 10-K filings of Amazon Inc. to save computation but in the real world, this can be used for multiple stocks. "
      ]
    },
    {
      "cell_type": "markdown",
      "metadata": {
        "id": "tA5eXE00DLeV",
        "colab_type": "text"
      },
      "source": [
        "## 1. Loading Packages"
      ]
    },
    {
      "cell_type": "code",
      "metadata": {
        "id": "oa0b2O_g7vZv",
        "colab_type": "code",
        "colab": {}
      },
      "source": [
        "!pip install alphalens\n",
        "!pip install nltk\n",
        "!pip install six\n",
        "!pip install tqdm\n",
        "!pip install ratelimit\n",
        "!pip install requests"
      ],
      "execution_count": 0,
      "outputs": []
    },
    {
      "cell_type": "code",
      "metadata": {
        "id": "O3iVzXGHiX-2",
        "colab_type": "code",
        "colab": {}
      },
      "source": [
        "import nltk\n",
        "import numpy as np\n",
        "import pandas as pd\n",
        "import pickle\n",
        "import pprint\n",
        "import matplotlib.pyplot as plt\n",
        "import requests"
      ],
      "execution_count": 0,
      "outputs": []
    },
    {
      "cell_type": "code",
      "metadata": {
        "id": "BG-zr6H6ijkZ",
        "colab_type": "code",
        "outputId": "b43e6935-8e17-4d10-cde7-405fa3332875",
        "colab": {
          "base_uri": "https://localhost:8080/",
          "height": 105
        }
      },
      "source": [
        "nltk.download('stopwords')\n",
        "nltk.download('wordnet')"
      ],
      "execution_count": 3,
      "outputs": [
        {
          "output_type": "stream",
          "text": [
            "[nltk_data] Downloading package stopwords to /root/nltk_data...\n",
            "[nltk_data]   Unzipping corpora/stopwords.zip.\n",
            "[nltk_data] Downloading package wordnet to /root/nltk_data...\n",
            "[nltk_data]   Unzipping corpora/wordnet.zip.\n"
          ],
          "name": "stdout"
        },
        {
          "output_type": "execute_result",
          "data": {
            "text/plain": [
              "True"
            ]
          },
          "metadata": {
            "tags": []
          },
          "execution_count": 3
        }
      ]
    },
    {
      "cell_type": "markdown",
      "metadata": {
        "id": "6hzfsqAtgEoQ",
        "colab_type": "text"
      },
      "source": [
        "## 2. Data Collection\n",
        "\n",
        "We'll be running NLP analysis on 10-k documents. To do that, we first need to download the documents from the U.S. Securities and Exchange Commission website.\n",
        "\n",
        "In an attempt to level the playing field for all investors, the SEC maintains an online database called EDGAR (the Electronic Data Gathering, Analysis, and Retrieval system) online from which investors can access this and other information filed with the agency.EDGAR performs automated collection, validation, indexing, acceptance, and forwarding of submissions by companies and others who are required by law to file forms with the SEC."
      ]
    },
    {
      "cell_type": "markdown",
      "metadata": {
        "id": "yYpQJdQ3DRfA",
        "colab_type": "text"
      },
      "source": [
        "As mentioned earlier, I just use the stock of Amazon but multiple stocks can be added to the dictionary keeping rest of the notebook intact. "
      ]
    },
    {
      "cell_type": "code",
      "metadata": {
        "id": "82OSSC8AY9dx",
        "colab_type": "code",
        "colab": {}
      },
      "source": [
        "cik_lookup = {'AMZN': '0001018724'}"
      ],
      "execution_count": 0,
      "outputs": []
    },
    {
      "cell_type": "code",
      "metadata": {
        "id": "dfZ4uH2lZUAT",
        "colab_type": "code",
        "colab": {}
      },
      "source": [
        "from ratelimit import limits, sleep_and_retry\n",
        "\n",
        "class SecAPI(object):\n",
        "    SEC_CALL_LIMIT = {'calls': 10, 'seconds': 1}\n",
        "\n",
        "    @staticmethod\n",
        "    @sleep_and_retry\n",
        "    # Dividing the call limit by half to avoid coming close to the limit\n",
        "    @limits(calls=SEC_CALL_LIMIT['calls'] / 2, period=SEC_CALL_LIMIT['seconds'])\n",
        "    def _call_sec(url):\n",
        "        return requests.get(url)\n",
        "\n",
        "    def get(self, url):\n",
        "        return self._call_sec(url).text"
      ],
      "execution_count": 0,
      "outputs": []
    },
    {
      "cell_type": "code",
      "metadata": {
        "id": "7_5bCiEOZBxy",
        "colab_type": "code",
        "colab": {}
      },
      "source": [
        "sec_api = SecAPI()"
      ],
      "execution_count": 0,
      "outputs": []
    },
    {
      "cell_type": "code",
      "metadata": {
        "id": "q_d_GJ4GZiFD",
        "colab_type": "code",
        "colab": {}
      },
      "source": [
        "from bs4 import BeautifulSoup\n",
        "\n",
        "def get_sec_data(cik, doc_type, start=0, count=60):\n",
        "    newest_pricing_data = pd.to_datetime('2020-06-01')\n",
        "    rss_url = 'https://www.sec.gov/cgi-bin/browse-edgar?action=getcompany' \\\n",
        "        '&CIK={}&type={}&start={}&count={}&owner=exclude&output=atom' \\\n",
        "        .format(cik, doc_type, start, count)\n",
        "    sec_data = sec_api.get(rss_url)\n",
        "    feed = BeautifulSoup(sec_data.encode('ascii'), 'xml').feed\n",
        "    entries = [\n",
        "        (\n",
        "            entry.content.find('filing-href').getText(),\n",
        "            entry.content.find('filing-type').getText(),\n",
        "            entry.content.find('filing-date').getText())\n",
        "        for entry in feed.find_all('entry', recursive=False)\n",
        "        if pd.to_datetime(entry.content.find('filing-date').getText()) <= newest_pricing_data]\n",
        "\n",
        "    return entries"
      ],
      "execution_count": 0,
      "outputs": []
    },
    {
      "cell_type": "code",
      "metadata": {
        "id": "_KreTNc3Z_ZW",
        "colab_type": "code",
        "outputId": "4fbefd21-023d-4b52-ed3b-77394277d96c",
        "colab": {
          "base_uri": "https://localhost:8080/",
          "height": 283
        }
      },
      "source": [
        "sec_data = {}\n",
        "\n",
        "for ticker, cik in cik_lookup.items():\n",
        "    sec_data[ticker] = get_sec_data(cik, '10-K')\n",
        "\n",
        "pprint.pprint(sec_data['AMZN'][:5])"
      ],
      "execution_count": 8,
      "outputs": [
        {
          "output_type": "stream",
          "text": [
            "[('https://www.sec.gov/Archives/edgar/data/1018724/000101872420000004/0001018724-20-000004-index.htm',\n",
            "  '10-K',\n",
            "  '2020-01-31'),\n",
            " ('https://www.sec.gov/Archives/edgar/data/1018724/000101872419000004/0001018724-19-000004-index.htm',\n",
            "  '10-K',\n",
            "  '2019-02-01'),\n",
            " ('https://www.sec.gov/Archives/edgar/data/1018724/000101872418000005/0001018724-18-000005-index.htm',\n",
            "  '10-K',\n",
            "  '2018-02-02'),\n",
            " ('https://www.sec.gov/Archives/edgar/data/1018724/000101872417000011/0001018724-17-000011-index.htm',\n",
            "  '10-K',\n",
            "  '2017-02-10'),\n",
            " ('https://www.sec.gov/Archives/edgar/data/1018724/000101872416000172/0001018724-16-000172-index.htm',\n",
            "  '10-K',\n",
            "  '2016-01-29')]\n"
          ],
          "name": "stdout"
        }
      ]
    },
    {
      "cell_type": "markdown",
      "metadata": {
        "id": "tZtVbBPCDor3",
        "colab_type": "text"
      },
      "source": [
        "As it can be seen, these are the links for the first 5 docs retrived from the SEC for Amazon"
      ]
    },
    {
      "cell_type": "code",
      "metadata": {
        "id": "KMQ5x82pa3Sq",
        "colab_type": "code",
        "colab": {}
      },
      "source": [
        "raw_fillings_by_ticker = {}\n",
        "for ticker, data in sec_data.items():\n",
        "  raw_fillings_by_ticker[ticker] = {}\n",
        "  for index_url, file_type, file_date in data:\n",
        "    if(file_type == '10-K'):\n",
        "      file_url = index_url.replace('-index.htm', '.txt').replace('.txtl', '.txt')            \n",
        "      raw_fillings_by_ticker[ticker][file_date] = sec_api.get(file_url)"
      ],
      "execution_count": 0,
      "outputs": []
    },
    {
      "cell_type": "code",
      "metadata": {
        "id": "dQGQ5CX4afmi",
        "colab_type": "code",
        "outputId": "39d97027-045e-43dc-e2d6-6b6ca5f3b566",
        "colab": {
          "base_uri": "https://localhost:8080/",
          "height": 816
        }
      },
      "source": [
        "print('Example Document:\\n\\n{}...'.format(next(iter(raw_fillings_by_ticker['AMZN'].values()))[:1000]))"
      ],
      "execution_count": 10,
      "outputs": [
        {
          "output_type": "stream",
          "text": [
            "Example Document:\n",
            "\n",
            "<SEC-DOCUMENT>0001018724-20-000004.txt : 20200131\n",
            "<SEC-HEADER>0001018724-20-000004.hdr.sgml : 20200131\n",
            "<ACCEPTANCE-DATETIME>20200130204613\n",
            "ACCESSION NUMBER:\t\t0001018724-20-000004\n",
            "CONFORMED SUBMISSION TYPE:\t10-K\n",
            "PUBLIC DOCUMENT COUNT:\t\t109\n",
            "CONFORMED PERIOD OF REPORT:\t20191231\n",
            "FILED AS OF DATE:\t\t20200131\n",
            "DATE AS OF CHANGE:\t\t20200130\n",
            "\n",
            "FILER:\n",
            "\n",
            "\tCOMPANY DATA:\t\n",
            "\t\tCOMPANY CONFORMED NAME:\t\t\tAMAZON COM INC\n",
            "\t\tCENTRAL INDEX KEY:\t\t\t0001018724\n",
            "\t\tSTANDARD INDUSTRIAL CLASSIFICATION:\tRETAIL-CATALOG & MAIL-ORDER HOUSES [5961]\n",
            "\t\tIRS NUMBER:\t\t\t\t911646860\n",
            "\t\tSTATE OF INCORPORATION:\t\t\tDE\n",
            "\t\tFISCAL YEAR END:\t\t\t1231\n",
            "\n",
            "\tFILING VALUES:\n",
            "\t\tFORM TYPE:\t\t10-K\n",
            "\t\tSEC ACT:\t\t1934 Act\n",
            "\t\tSEC FILE NUMBER:\t000-22513\n",
            "\t\tFILM NUMBER:\t\t20562951\n",
            "\n",
            "\tBUSINESS ADDRESS:\t\n",
            "\t\tSTREET 1:\t\t410 TERRY AVENUE NORTH\n",
            "\t\tCITY:\t\t\tSEATTLE\n",
            "\t\tSTATE:\t\t\tWA\n",
            "\t\tZIP:\t\t\t98109\n",
            "\t\tBUSINESS PHONE:\t\t2062661000\n",
            "\n",
            "\tMAIL ADDRESS:\t\n",
            "\t\tSTREET 1:\t\t410 TERRY AVENUE NORTH\n",
            "\t\tCITY:\t\t\tSEATTLE\n",
            "\t\tSTATE:\t\t\tWA\n",
            "\t\tZIP:\t\t\t98109\n",
            "</SEC-HEADER>\n",
            "<DOCUMENT>\n",
            "<TYPE>10-K\n",
            "<SEQUENCE>1\n",
            "<FILENAM...\n"
          ],
          "name": "stdout"
        }
      ]
    },
    {
      "cell_type": "code",
      "metadata": {
        "id": "Qsfr0ihic06_",
        "colab_type": "code",
        "colab": {}
      },
      "source": [
        "import re\n",
        "\n",
        "def get_documents(text):\n",
        "    \"\"\"\n",
        "    Extract the documents from the text\n",
        "\n",
        "    Parameters --> text : str (The text with the document strings inside)\n",
        "\n",
        "    Returns --> extracted_docs : list of str (The document strings found in `text`)\n",
        "    \"\"\"\n",
        "    \n",
        "    filings_list = []\n",
        "    doc_start_pattern = re.compile(r'<DOCUMENT>')\n",
        "    doc_end_pattern = re.compile(r'</DOCUMENT>')\n",
        "    \n",
        "    doc_start_is = [x.end() for x in doc_start_pattern.finditer(text)]\n",
        "    doc_end_is = [x.start() for x in doc_end_pattern.finditer(text)]\n",
        "    \n",
        "    for doc_start_i, doc_end_i in zip(doc_start_is, doc_end_is): \n",
        "        filings_list.append(text[doc_start_i : doc_end_i])\n",
        "    \n",
        "    return filings_list"
      ],
      "execution_count": 0,
      "outputs": []
    },
    {
      "cell_type": "code",
      "metadata": {
        "id": "DaTDDAn0dJdY",
        "colab_type": "code",
        "colab": {}
      },
      "source": [
        "filling_documents_by_ticker = {}\n",
        "\n",
        "for ticker, raw_fillings in raw_fillings_by_ticker.items():\n",
        "    filling_documents_by_ticker[ticker] = {}\n",
        "    for file_date, filling in raw_fillings.items():\n",
        "        filling_documents_by_ticker[ticker][file_date] = get_documents(filling)"
      ],
      "execution_count": 0,
      "outputs": []
    },
    {
      "cell_type": "code",
      "metadata": {
        "id": "GMwwcCiwdyaO",
        "colab_type": "code",
        "outputId": "d2a8ee4d-56ed-48fa-d922-92cbfc1c027c",
        "colab": {
          "base_uri": "https://localhost:8080/",
          "height": 567
        }
      },
      "source": [
        "print('\\n\\n'.join([\n",
        "    'Document {} Filed on {}:\\n{}...'.format(doc_i, file_date, doc[:200])\n",
        "    for file_date, docs in filling_documents_by_ticker['AMZN'].items()\n",
        "    for doc_i, doc in enumerate(docs)][:3]))"
      ],
      "execution_count": 13,
      "outputs": [
        {
          "output_type": "stream",
          "text": [
            "Document 0 Filed on 2020-01-31:\n",
            "\n",
            "<TYPE>10-K\n",
            "<SEQUENCE>1\n",
            "<FILENAME>amzn-20191231x10k.htm\n",
            "<DESCRIPTION>10-K\n",
            "<TEXT>\n",
            "<XBRL>\n",
            "<?xml version=\"1.0\" encoding=\"UTF-8\"?>\n",
            "<!--XBRL Document Created with Wdesk from Workiva-->\n",
            "<!--p:c57a17684e854b...\n",
            "\n",
            "Document 1 Filed on 2020-01-31:\n",
            "\n",
            "<TYPE>EX-4.6\n",
            "<SEQUENCE>2\n",
            "<FILENAME>amzn-20191231xex46.htm\n",
            "<DESCRIPTION>EXHIBIT 4.6\n",
            "<TEXT>\n",
            "<!DOCTYPE html PUBLIC \"-//W3C//DTD HTML 4.01 Transitional//EN\" \"http://www.w3.org/TR/html4/loose.dtd\">\n",
            "<html>...\n",
            "\n",
            "Document 2 Filed on 2020-01-31:\n",
            "\n",
            "<TYPE>EX-21.1\n",
            "<SEQUENCE>3\n",
            "<FILENAME>amzn-20191231xex211.htm\n",
            "<DESCRIPTION>EXHIBIT 21.1\n",
            "<TEXT>\n",
            "<!DOCTYPE html PUBLIC \"-//W3C//DTD HTML 4.01 Transitional//EN\" \"http://www.w3.org/TR/html4/loose.dtd\">\n",
            "<ht...\n"
          ],
          "name": "stdout"
        }
      ]
    },
    {
      "cell_type": "code",
      "metadata": {
        "id": "ITOE1BLkB5zw",
        "colab_type": "code",
        "colab": {}
      },
      "source": [
        "def get_document_type(doc):\n",
        "    \"\"\"\n",
        "    Return the document type lowercased\n",
        "\n",
        "    Parameters --> doc : str (The document string)\n",
        "\n",
        "    Returns --> doc_type : str (The document type lowercased)\n",
        "    \"\"\"\n",
        "    \n",
        "    regex = re.compile(r'<TYPE>.+')\n",
        "    matches = regex.findall(doc)\n",
        "    doc_type_list = [match [ len('<TYPE>'): ] for match in matches]\n",
        "    doc_type_str = ' '.join(doc_type_list).lower()\n",
        "  \n",
        "    return doc_type_str"
      ],
      "execution_count": 0,
      "outputs": []
    },
    {
      "cell_type": "code",
      "metadata": {
        "id": "uxOanks0CC2d",
        "colab_type": "code",
        "colab": {}
      },
      "source": [
        "ten_ks_by_ticker = {}\n",
        "\n",
        "for ticker, filling_documents in filling_documents_by_ticker.items():\n",
        "    ten_ks_by_ticker[ticker] = []\n",
        "    for file_date, documents in filling_documents.items():\n",
        "        for document in documents:\n",
        "            if get_document_type(document) == '10-k':\n",
        "                ten_ks_by_ticker[ticker].append({\n",
        "                    'cik': cik_lookup[ticker],\n",
        "                    'file': document,\n",
        "                    'file_date': file_date})"
      ],
      "execution_count": 0,
      "outputs": []
    },
    {
      "cell_type": "code",
      "metadata": {
        "id": "pz-kbqZtfhzC",
        "colab_type": "code",
        "colab": {}
      },
      "source": [
        "def print_ten_k_data(ten_k_data, fields, field_length_limit=50):\n",
        "    indentation = '  '\n",
        "\n",
        "    print('[')\n",
        "    for ten_k in ten_k_data:\n",
        "        print_statement = '{}{{'.format(indentation)\n",
        "        for field in fields:\n",
        "            value = str(ten_k[field])\n",
        "\n",
        "            # Show return lines in output\n",
        "            if isinstance(value, str):\n",
        "                value_str = '\\'{}\\''.format(value.replace('\\n', '\\\\n'))\n",
        "            else:\n",
        "                value_str = str(value)\n",
        "\n",
        "            # Cut off the string if it gets too long\n",
        "            if len(value_str) > field_length_limit:\n",
        "                value_str = value_str[:field_length_limit] + '...'\n",
        "\n",
        "            print_statement += '\\n{}{}: {}'.format(indentation * 2, field, value_str)\n",
        "\n",
        "        print_statement += '},'\n",
        "        print(print_statement)\n",
        "    print(']')"
      ],
      "execution_count": 0,
      "outputs": []
    },
    {
      "cell_type": "code",
      "metadata": {
        "id": "n4eFY1fhfa9W",
        "colab_type": "code",
        "outputId": "4c7f1cb5-89a0-4188-ab18-e717221ecb84",
        "colab": {
          "base_uri": "https://localhost:8080/",
          "height": 407
        }
      },
      "source": [
        "print_ten_k_data(ten_ks_by_ticker['AMZN'][:5], ['cik', 'file', 'file_date'])"
      ],
      "execution_count": 17,
      "outputs": [
        {
          "output_type": "stream",
          "text": [
            "[\n",
            "  {\n",
            "    cik: '0001018724'\n",
            "    file: '\\n<TYPE>10-K\\n<SEQUENCE>1\\n<FILENAME>amzn-2019123...\n",
            "    file_date: '2020-01-31'},\n",
            "  {\n",
            "    cik: '0001018724'\n",
            "    file: '\\n<TYPE>10-K\\n<SEQUENCE>1\\n<FILENAME>amzn-2018123...\n",
            "    file_date: '2019-02-01'},\n",
            "  {\n",
            "    cik: '0001018724'\n",
            "    file: '\\n<TYPE>10-K\\n<SEQUENCE>1\\n<FILENAME>amzn-2017123...\n",
            "    file_date: '2018-02-02'},\n",
            "  {\n",
            "    cik: '0001018724'\n",
            "    file: '\\n<TYPE>10-K\\n<SEQUENCE>1\\n<FILENAME>amzn-2016123...\n",
            "    file_date: '2017-02-10'},\n",
            "  {\n",
            "    cik: '0001018724'\n",
            "    file: '\\n<TYPE>10-K\\n<SEQUENCE>1\\n<FILENAME>amzn-2015123...\n",
            "    file_date: '2016-01-29'},\n",
            "]\n"
          ],
          "name": "stdout"
        }
      ]
    },
    {
      "cell_type": "markdown",
      "metadata": {
        "id": "F8rnMkh1f9Il",
        "colab_type": "text"
      },
      "source": [
        "## 3. Pre Processing"
      ]
    },
    {
      "cell_type": "markdown",
      "metadata": {
        "id": "Vd1AAJCNgzKc",
        "colab_type": "text"
      },
      "source": [
        "### Cleanup\n",
        "We'll clean up the data by removing all the tags and converting the remaining text to lowercase. "
      ]
    },
    {
      "cell_type": "code",
      "metadata": {
        "id": "jNhZA7o0CH3H",
        "colab_type": "code",
        "colab": {}
      },
      "source": [
        "def remove_html_tags(text):\n",
        "    return (BeautifulSoup(text, 'html.parser').get_text())\n",
        "\n",
        "def clean_text(text):\n",
        "    return (remove_html_tags(text).lower())"
      ],
      "execution_count": 0,
      "outputs": []
    },
    {
      "cell_type": "code",
      "metadata": {
        "id": "HMNyQgWqCNw3",
        "colab_type": "code",
        "colab": {}
      },
      "source": [
        "for ticker, ten_ks in ten_ks_by_ticker.items():\n",
        "    for ten_k in ten_ks:\n",
        "        ten_k['file_clean'] = clean_text(ten_k['file'])"
      ],
      "execution_count": 0,
      "outputs": []
    },
    {
      "cell_type": "code",
      "metadata": {
        "id": "dkbW8I8SghaW",
        "colab_type": "code",
        "outputId": "9b9c89a6-86bd-441f-b010-a89ae24b007b",
        "colab": {
          "base_uri": "https://localhost:8080/",
          "height": 34
        }
      },
      "source": [
        "ten_k.keys()"
      ],
      "execution_count": 20,
      "outputs": [
        {
          "output_type": "execute_result",
          "data": {
            "text/plain": [
              "dict_keys(['cik', 'file', 'file_date', 'file_clean'])"
            ]
          },
          "metadata": {
            "tags": []
          },
          "execution_count": 20
        }
      ]
    },
    {
      "cell_type": "markdown",
      "metadata": {
        "id": "dk6l-ANsg1cd",
        "colab_type": "text"
      },
      "source": [
        "### Lemmatize\n",
        "Lemmatization aims to remove inflectional endings only, and return the base or dictionary form of a word, which is known as lemma."
      ]
    },
    {
      "cell_type": "code",
      "metadata": {
        "id": "aQQs2Yk4g2wc",
        "colab_type": "code",
        "colab": {}
      },
      "source": [
        "from nltk.stem import WordNetLemmatizer\n",
        "from nltk.corpus import wordnet\n",
        "\n",
        "\n",
        "def lemmatize_words(words):\n",
        "    \"\"\"\n",
        "    Lemmatize words \n",
        "\n",
        "    Parameters --> words : list of str (List of words)\n",
        "\n",
        "    Returns --> lemmatized_words : list of str (List of lemmatized words)\n",
        "    \"\"\"\n",
        "\n",
        "    wnl = WordNetLemmatizer()\n",
        "    # lemmatize verbs\n",
        "    lemmatized_words = [wnl.lemmatize(w, 'v') for w in words]\n",
        "    \n",
        "    return lemmatized_words"
      ],
      "execution_count": 0,
      "outputs": []
    },
    {
      "cell_type": "code",
      "metadata": {
        "id": "FfmoAUkthFzY",
        "colab_type": "code",
        "colab": {}
      },
      "source": [
        "word_pattern = re.compile('\\w+')\n",
        "\n",
        "for ticker, ten_ks in ten_ks_by_ticker.items():\n",
        "    for ten_k in ten_ks:\n",
        "        ten_k['file_lemma'] = lemmatize_words(word_pattern.findall(ten_k['file_clean']))"
      ],
      "execution_count": 0,
      "outputs": []
    },
    {
      "cell_type": "code",
      "metadata": {
        "id": "yORAjsc3hRQf",
        "colab_type": "code",
        "outputId": "a3bf962f-20b3-4642-a316-bc454b37518d",
        "colab": {
          "base_uri": "https://localhost:8080/",
          "height": 230
        }
      },
      "source": [
        "print_ten_k_data(ten_ks_by_ticker['AMZN'][:5], ['file_lemma'])"
      ],
      "execution_count": 23,
      "outputs": [
        {
          "output_type": "stream",
          "text": [
            "[\n",
            "  {\n",
            "    file_lemma: '['10', 'k', '1', 'amzn', '20191231x10k', 'htm', '...},\n",
            "  {\n",
            "    file_lemma: '['10', 'k', '1', 'amzn', '20181231x10k', 'htm', '...},\n",
            "  {\n",
            "    file_lemma: '['10', 'k', '1', 'amzn', '20171231x10k', 'htm', '...},\n",
            "  {\n",
            "    file_lemma: '['10', 'k', '1', 'amzn', '20161231x10k', 'htm', '...},\n",
            "  {\n",
            "    file_lemma: '['10', 'k', '1', 'amzn', '20151231x10k', 'htm', '...},\n",
            "]\n"
          ],
          "name": "stdout"
        }
      ]
    },
    {
      "cell_type": "markdown",
      "metadata": {
        "id": "VnSACWmNhbqW",
        "colab_type": "text"
      },
      "source": [
        "### Removing Stopwords"
      ]
    },
    {
      "cell_type": "code",
      "metadata": {
        "id": "PH5_hWlkhWHW",
        "colab_type": "code",
        "colab": {}
      },
      "source": [
        "from nltk.corpus import stopwords\n",
        "\n",
        "lemma_english_stopwords = lemmatize_words(stopwords.words('english'))\n",
        "\n",
        "for ticker, ten_ks in ten_ks_by_ticker.items():\n",
        "    for ten_k in ten_ks:\n",
        "        ten_k['file_lemma'] = [word for word in ten_k['file_lemma'] if word not in lemma_english_stopwords]"
      ],
      "execution_count": 0,
      "outputs": []
    },
    {
      "cell_type": "code",
      "metadata": {
        "id": "wI3GrRR39EDP",
        "colab_type": "code",
        "outputId": "8ec39520-af0e-4c0e-e553-cadcf6f6da03",
        "colab": {
          "base_uri": "https://localhost:8080/",
          "height": 0
        }
      },
      "source": [
        "print_ten_k_data(ten_ks_by_ticker['AMZN'][:5], ['file_lemma'])"
      ],
      "execution_count": 25,
      "outputs": [
        {
          "output_type": "stream",
          "text": [
            "[\n",
            "  {\n",
            "    file_lemma: '['10', 'k', '1', 'amzn', '20191231x10k', 'htm', '...},\n",
            "  {\n",
            "    file_lemma: '['10', 'k', '1', 'amzn', '20181231x10k', 'htm', '...},\n",
            "  {\n",
            "    file_lemma: '['10', 'k', '1', 'amzn', '20171231x10k', 'htm', '...},\n",
            "  {\n",
            "    file_lemma: '['10', 'k', '1', 'amzn', '20161231x10k', 'htm', '...},\n",
            "  {\n",
            "    file_lemma: '['10', 'k', '1', 'amzn', '20151231x10k', 'htm', '...},\n",
            "]\n"
          ],
          "name": "stdout"
        }
      ]
    },
    {
      "cell_type": "markdown",
      "metadata": {
        "id": "aQp2l2S4GuqO",
        "colab_type": "text"
      },
      "source": [
        "## 4. Sentiment Analysis\n",
        "\n",
        "We'll use the [Loughran-McDonald Sentiment Word Lists](https://sraf.nd.edu/textual-analysis/resources/#LM%20Sentiment%20Word%20Lists). \n",
        "\n",
        "It is an Excel file containing each of the LM sentiment words by category (Negative, Positive, Uncertainty, Litigious, Strong Modal, Weak Modal, Constraining). It was specifically made for financial analysis. "
      ]
    },
    {
      "cell_type": "code",
      "metadata": {
        "id": "i4XeURYjhpys",
        "colab_type": "code",
        "outputId": "7a04dc67-c8fc-471b-c17b-cb41c10ccf3d",
        "colab": {
          "base_uri": "https://localhost:8080/",
          "height": 317
        }
      },
      "source": [
        "sentiment_df=pd.read_csv('/content/loughran_mcdonald_master_dic_2016.csv')\n",
        "sentiment_df.head()"
      ],
      "execution_count": 26,
      "outputs": [
        {
          "output_type": "execute_result",
          "data": {
            "text/html": [
              "<div>\n",
              "<style scoped>\n",
              "    .dataframe tbody tr th:only-of-type {\n",
              "        vertical-align: middle;\n",
              "    }\n",
              "\n",
              "    .dataframe tbody tr th {\n",
              "        vertical-align: top;\n",
              "    }\n",
              "\n",
              "    .dataframe thead th {\n",
              "        text-align: right;\n",
              "    }\n",
              "</style>\n",
              "<table border=\"1\" class=\"dataframe\">\n",
              "  <thead>\n",
              "    <tr style=\"text-align: right;\">\n",
              "      <th></th>\n",
              "      <th>Word</th>\n",
              "      <th>Sequence Number</th>\n",
              "      <th>Word Count</th>\n",
              "      <th>Word Proportion</th>\n",
              "      <th>Average Proportion</th>\n",
              "      <th>Std Dev</th>\n",
              "      <th>Doc Count</th>\n",
              "      <th>Negative</th>\n",
              "      <th>Positive</th>\n",
              "      <th>Uncertainty</th>\n",
              "      <th>Litigious</th>\n",
              "      <th>Constraining</th>\n",
              "      <th>Superfluous</th>\n",
              "      <th>Interesting</th>\n",
              "      <th>Modal</th>\n",
              "      <th>Irr_Verb</th>\n",
              "      <th>Harvard_IV</th>\n",
              "      <th>Syllables</th>\n",
              "      <th>Source</th>\n",
              "    </tr>\n",
              "  </thead>\n",
              "  <tbody>\n",
              "    <tr>\n",
              "      <th>0</th>\n",
              "      <td>AARDVARK</td>\n",
              "      <td>1</td>\n",
              "      <td>275</td>\n",
              "      <td>1.603442e-08</td>\n",
              "      <td>1.306189e-08</td>\n",
              "      <td>3.665256e-06</td>\n",
              "      <td>82</td>\n",
              "      <td>0</td>\n",
              "      <td>0</td>\n",
              "      <td>0</td>\n",
              "      <td>0</td>\n",
              "      <td>0</td>\n",
              "      <td>0</td>\n",
              "      <td>0</td>\n",
              "      <td>0</td>\n",
              "      <td>0</td>\n",
              "      <td>0</td>\n",
              "      <td>2</td>\n",
              "      <td>12of12inf</td>\n",
              "    </tr>\n",
              "    <tr>\n",
              "      <th>1</th>\n",
              "      <td>AARDVARKS</td>\n",
              "      <td>2</td>\n",
              "      <td>3</td>\n",
              "      <td>1.749209e-10</td>\n",
              "      <td>1.028197e-11</td>\n",
              "      <td>1.014208e-08</td>\n",
              "      <td>1</td>\n",
              "      <td>0</td>\n",
              "      <td>0</td>\n",
              "      <td>0</td>\n",
              "      <td>0</td>\n",
              "      <td>0</td>\n",
              "      <td>0</td>\n",
              "      <td>0</td>\n",
              "      <td>0</td>\n",
              "      <td>0</td>\n",
              "      <td>0</td>\n",
              "      <td>2</td>\n",
              "      <td>12of12inf</td>\n",
              "    </tr>\n",
              "    <tr>\n",
              "      <th>2</th>\n",
              "      <td>ABACI</td>\n",
              "      <td>3</td>\n",
              "      <td>8</td>\n",
              "      <td>4.664558e-10</td>\n",
              "      <td>1.465871e-10</td>\n",
              "      <td>6.401309e-08</td>\n",
              "      <td>7</td>\n",
              "      <td>0</td>\n",
              "      <td>0</td>\n",
              "      <td>0</td>\n",
              "      <td>0</td>\n",
              "      <td>0</td>\n",
              "      <td>0</td>\n",
              "      <td>0</td>\n",
              "      <td>0</td>\n",
              "      <td>0</td>\n",
              "      <td>0</td>\n",
              "      <td>3</td>\n",
              "      <td>12of12inf</td>\n",
              "    </tr>\n",
              "    <tr>\n",
              "      <th>3</th>\n",
              "      <td>ABACK</td>\n",
              "      <td>4</td>\n",
              "      <td>6</td>\n",
              "      <td>3.498419e-10</td>\n",
              "      <td>1.758203e-10</td>\n",
              "      <td>7.213526e-08</td>\n",
              "      <td>6</td>\n",
              "      <td>0</td>\n",
              "      <td>0</td>\n",
              "      <td>0</td>\n",
              "      <td>0</td>\n",
              "      <td>0</td>\n",
              "      <td>0</td>\n",
              "      <td>0</td>\n",
              "      <td>0</td>\n",
              "      <td>0</td>\n",
              "      <td>0</td>\n",
              "      <td>2</td>\n",
              "      <td>12of12inf</td>\n",
              "    </tr>\n",
              "    <tr>\n",
              "      <th>4</th>\n",
              "      <td>ABACUS</td>\n",
              "      <td>5</td>\n",
              "      <td>6729</td>\n",
              "      <td>3.923477e-07</td>\n",
              "      <td>3.752169e-07</td>\n",
              "      <td>3.452425e-05</td>\n",
              "      <td>845</td>\n",
              "      <td>0</td>\n",
              "      <td>0</td>\n",
              "      <td>0</td>\n",
              "      <td>0</td>\n",
              "      <td>0</td>\n",
              "      <td>0</td>\n",
              "      <td>0</td>\n",
              "      <td>0</td>\n",
              "      <td>0</td>\n",
              "      <td>0</td>\n",
              "      <td>3</td>\n",
              "      <td>12of12inf</td>\n",
              "    </tr>\n",
              "  </tbody>\n",
              "</table>\n",
              "</div>"
            ],
            "text/plain": [
              "        Word  Sequence Number  Word Count  ...  Harvard_IV  Syllables     Source\n",
              "0   AARDVARK                1         275  ...           0          2  12of12inf\n",
              "1  AARDVARKS                2           3  ...           0          2  12of12inf\n",
              "2      ABACI                3           8  ...           0          3  12of12inf\n",
              "3      ABACK                4           6  ...           0          2  12of12inf\n",
              "4     ABACUS                5        6729  ...           0          3  12of12inf\n",
              "\n",
              "[5 rows x 19 columns]"
            ]
          },
          "metadata": {
            "tags": []
          },
          "execution_count": 26
        }
      ]
    },
    {
      "cell_type": "code",
      "metadata": {
        "id": "FrtvzfZmifbv",
        "colab_type": "code",
        "outputId": "0ff52d05-f590-4c9a-c153-60708fdd6771",
        "colab": {
          "base_uri": "https://localhost:8080/",
          "height": 197
        }
      },
      "source": [
        "sentiments = ['negative', 'positive', 'uncertainty', 'litigious', 'constraining', 'interesting']\n",
        "\n",
        "sentiment_df.columns = [column.lower() for column in sentiment_df.columns] # Lowercase the columns for ease of use\n",
        "\n",
        "# Remove unused information\n",
        "sentiment_df = sentiment_df[sentiments + ['word']]\n",
        "sentiment_df[sentiments] = sentiment_df[sentiments].astype(bool)\n",
        "sentiment_df = sentiment_df[(sentiment_df[sentiments]).any(1)]\n",
        "\n",
        "# Apply the same preprocessing to these words as the 10-k words\n",
        "sentiment_df['word'] = lemmatize_words(sentiment_df['word'].str.lower())\n",
        "sentiment_df = sentiment_df.drop_duplicates('word')\n",
        "\n",
        "sentiment_df.head()"
      ],
      "execution_count": 27,
      "outputs": [
        {
          "output_type": "execute_result",
          "data": {
            "text/html": [
              "<div>\n",
              "<style scoped>\n",
              "    .dataframe tbody tr th:only-of-type {\n",
              "        vertical-align: middle;\n",
              "    }\n",
              "\n",
              "    .dataframe tbody tr th {\n",
              "        vertical-align: top;\n",
              "    }\n",
              "\n",
              "    .dataframe thead th {\n",
              "        text-align: right;\n",
              "    }\n",
              "</style>\n",
              "<table border=\"1\" class=\"dataframe\">\n",
              "  <thead>\n",
              "    <tr style=\"text-align: right;\">\n",
              "      <th></th>\n",
              "      <th>negative</th>\n",
              "      <th>positive</th>\n",
              "      <th>uncertainty</th>\n",
              "      <th>litigious</th>\n",
              "      <th>constraining</th>\n",
              "      <th>interesting</th>\n",
              "      <th>word</th>\n",
              "    </tr>\n",
              "  </thead>\n",
              "  <tbody>\n",
              "    <tr>\n",
              "      <th>9</th>\n",
              "      <td>True</td>\n",
              "      <td>False</td>\n",
              "      <td>False</td>\n",
              "      <td>False</td>\n",
              "      <td>False</td>\n",
              "      <td>False</td>\n",
              "      <td>abandon</td>\n",
              "    </tr>\n",
              "    <tr>\n",
              "      <th>12</th>\n",
              "      <td>True</td>\n",
              "      <td>False</td>\n",
              "      <td>False</td>\n",
              "      <td>False</td>\n",
              "      <td>False</td>\n",
              "      <td>False</td>\n",
              "      <td>abandonment</td>\n",
              "    </tr>\n",
              "    <tr>\n",
              "      <th>13</th>\n",
              "      <td>True</td>\n",
              "      <td>False</td>\n",
              "      <td>False</td>\n",
              "      <td>False</td>\n",
              "      <td>False</td>\n",
              "      <td>False</td>\n",
              "      <td>abandonments</td>\n",
              "    </tr>\n",
              "    <tr>\n",
              "      <th>51</th>\n",
              "      <td>True</td>\n",
              "      <td>False</td>\n",
              "      <td>False</td>\n",
              "      <td>False</td>\n",
              "      <td>False</td>\n",
              "      <td>False</td>\n",
              "      <td>abdicate</td>\n",
              "    </tr>\n",
              "    <tr>\n",
              "      <th>54</th>\n",
              "      <td>True</td>\n",
              "      <td>False</td>\n",
              "      <td>False</td>\n",
              "      <td>False</td>\n",
              "      <td>False</td>\n",
              "      <td>False</td>\n",
              "      <td>abdication</td>\n",
              "    </tr>\n",
              "  </tbody>\n",
              "</table>\n",
              "</div>"
            ],
            "text/plain": [
              "    negative  positive  uncertainty  ...  constraining  interesting          word\n",
              "9       True     False        False  ...         False        False       abandon\n",
              "12      True     False        False  ...         False        False   abandonment\n",
              "13      True     False        False  ...         False        False  abandonments\n",
              "51      True     False        False  ...         False        False      abdicate\n",
              "54      True     False        False  ...         False        False    abdication\n",
              "\n",
              "[5 rows x 7 columns]"
            ]
          },
          "metadata": {
            "tags": []
          },
          "execution_count": 27
        }
      ]
    },
    {
      "cell_type": "markdown",
      "metadata": {
        "id": "ogIK_1w0RSjT",
        "colab_type": "text"
      },
      "source": [
        "### Bag of Words\n",
        "using the sentiment word lists, let's generate sentiment bag of words from the 10-k documents."
      ]
    },
    {
      "cell_type": "code",
      "metadata": {
        "id": "pc6QJHZTixBz",
        "colab_type": "code",
        "colab": {}
      },
      "source": [
        "from collections import defaultdict, Counter\n",
        "from sklearn.feature_extraction.text import CountVectorizer\n",
        "\n",
        "\n",
        "def get_bag_of_words(sentiment_words, docs):\n",
        "    \"\"\"\n",
        "    Generate a bag of words from documents for a certain sentiment\n",
        "\n",
        "    Parameters --> sentiment_words: Pandas Series (Words that signify a certain sentiment)\n",
        "                   docs : list of str (List of documents used to generate bag of words)\n",
        "\n",
        "    Returns --> bag_of_words : 2-d Numpy Ndarray of int\n",
        "                Bag of words sentiment for each document\n",
        "                The first dimension is the document.\n",
        "                The second dimension is the word.\n",
        "    \"\"\"\n",
        "    \n",
        "    vectorizer = CountVectorizer(vocabulary=sentiment_words.values)\n",
        "    \n",
        "    # build bad of words matrix\n",
        "    word_matrix = vectorizer.fit_transform(docs)\n",
        "    \n",
        "    return word_matrix.toarray()"
      ],
      "execution_count": 0,
      "outputs": []
    },
    {
      "cell_type": "code",
      "metadata": {
        "id": "-yOfFHsv7kVd",
        "colab_type": "code",
        "colab": {}
      },
      "source": [
        "sentiment_bow_ten_ks = {}\n",
        "\n",
        "for ticker, ten_ks in ten_ks_by_ticker.items():\n",
        "    lemma_docs = [' '.join(ten_k['file_lemma']) for ten_k in ten_ks]\n",
        "    sentiment_bow_ten_ks[ticker] = {\n",
        "        sentiment: get_bag_of_words(sentiment_df[sentiment_df[sentiment]]['word'], lemma_docs)\n",
        "        for sentiment in sentiments}"
      ],
      "execution_count": 0,
      "outputs": []
    },
    {
      "cell_type": "code",
      "metadata": {
        "id": "Ae2w1FqLB4hl",
        "colab_type": "code",
        "outputId": "381bbde3-80e4-456d-865a-f22c231a923f",
        "colab": {
          "base_uri": "https://localhost:8080/",
          "height": 176
        }
      },
      "source": [
        "print_ten_k_data([sentiment_bow_ten_ks['AMZN']], sentiments)"
      ],
      "execution_count": 30,
      "outputs": [
        {
          "output_type": "stream",
          "text": [
            "[\n",
            "  {\n",
            "    negative: '[[0 0 0 ... 0 0 0]\\n [0 0 0 ... 0 0 0]\\n [0 0 0 ....\n",
            "    positive: '[[12  0  0 ...  0  0  0]\\n [15  0  0 ...  0  0  0...\n",
            "    uncertainty: '[[0 0 0 ... 1 1 2]\\n [0 0 0 ... 1 1 2]\\n [0 0 0 ....\n",
            "    litigious: '[[0 0 0 ... 0 0 0]\\n [0 0 0 ... 0 0 0]\\n [0 0 0 ....\n",
            "    constraining: '[[0 0 0 ... 0 0 2]\\n [0 0 0 ... 0 0 2]\\n [0 0 0 ....\n",
            "    interesting: '[[2 0 0 ... 0 0 0]\\n [2 0 0 ... 0 0 0]\\n [2 0 0 ....},\n",
            "]\n"
          ],
          "name": "stdout"
        }
      ]
    },
    {
      "cell_type": "markdown",
      "metadata": {
        "id": "NT2IKuflfb3-",
        "colab_type": "text"
      },
      "source": [
        "### Jaccard Similarity Score\n",
        "Using the bag of words, let's calculate the jaccard similarity on the bag of words and plot it over time. \n",
        "\n",
        "The Jaccard similarity index (sometimes called the Jaccard similarity coefficient) compares members for two sets to see which members are shared and which are distinct. It's a measure of similarity for the two sets of data, with a range from 0% to 100%."
      ]
    },
    {
      "cell_type": "code",
      "metadata": {
        "id": "Sx_ikRAYTKPP",
        "colab_type": "code",
        "colab": {}
      },
      "source": [
        "from sklearn.metrics import jaccard_similarity_score\n",
        "\n",
        "\n",
        "def get_jaccard_similarity(bag_of_words_matrix):\n",
        "    \"\"\"\n",
        "    Get jaccard similarities for neighboring documents\n",
        "\n",
        "    Parameters --> bag_of_words : 2-d Numpy Ndarray of int\n",
        "                    Bag of words sentiment for each document\n",
        "                    The first dimension is the document.\n",
        "                    The second dimension is the word.\n",
        "\n",
        "    Returns --> jaccard_similarities : list of float (Jaccard similarities for neighboring documents)\n",
        "    \"\"\"\n",
        "    \n",
        "    jaccard_similarities = []\n",
        "    bool_bow_mat = bag_of_words_matrix.astype(bool)\n",
        "    \n",
        "    # compute jaccard similary for neighboring docs\n",
        "    for i in range(bag_of_words_matrix.shape[0]-1):\n",
        "        jaccard_similarities.append(jaccard_similarity_score(bool_bow_mat[i], bool_bow_mat[i+1]))\n",
        "    \n",
        "    return jaccard_similarities"
      ],
      "execution_count": 0,
      "outputs": []
    },
    {
      "cell_type": "code",
      "metadata": {
        "id": "_VXRVNo_Tb-E",
        "colab_type": "code",
        "colab": {
          "base_uri": "https://localhost:8080/",
          "height": 72
        },
        "outputId": "0fa7cfe2-735e-4711-ca46-3f655003cf27"
      },
      "source": [
        "# Get dates for the universe\n",
        "file_dates = {\n",
        "    ticker: [ten_k['file_date'] for ten_k in ten_ks]\n",
        "    for ticker, ten_ks in ten_ks_by_ticker.items()}  \n",
        "\n",
        "jaccard_similarities = {\n",
        "    ticker: {\n",
        "        sentiment_name: get_jaccard_similarity(sentiment_values)\n",
        "        for sentiment_name, sentiment_values in ten_k_sentiments.items()}\n",
        "    for ticker, ten_k_sentiments in sentiment_bow_ten_ks.items()}"
      ],
      "execution_count": 32,
      "outputs": [
        {
          "output_type": "stream",
          "text": [
            "/usr/local/lib/python3.6/dist-packages/sklearn/metrics/_classification.py:664: FutureWarning: jaccard_similarity_score has been deprecated and replaced with jaccard_score. It will be removed in version 0.23. This implementation has surprising behavior for binary and multiclass classification tasks.\n",
            "  FutureWarning)\n"
          ],
          "name": "stderr"
        }
      ]
    },
    {
      "cell_type": "code",
      "metadata": {
        "id": "jVpv3LZ2Ordu",
        "colab_type": "code",
        "colab": {}
      },
      "source": [
        "def plot_similarities(similarities_list, dates, title, labels):\n",
        "    assert len(similarities_list) == len(labels)\n",
        "\n",
        "    plt.figure(1, figsize=(20, 8))\n",
        "    for similarities, label in zip(similarities_list, labels):\n",
        "        plt.title(title)\n",
        "        plt.plot(dates, similarities, label=label)\n",
        "        plt.legend(loc=3, prop={'size': 25})\n",
        "        plt.xticks(rotation=90)\n",
        "\n",
        "    plt.show()"
      ],
      "execution_count": 0,
      "outputs": []
    },
    {
      "cell_type": "code",
      "metadata": {
        "id": "TccZGRjVOode",
        "colab_type": "code",
        "colab": {
          "base_uri": "https://localhost:8080/",
          "height": 517
        },
        "outputId": "0098a1bc-6d9b-40ce-bf42-c50d2dd28a3a"
      },
      "source": [
        "plot_similarities(\n",
        "    [jaccard_similarities['AMZN'][sentiment] for sentiment in sentiments],\n",
        "    file_dates['AMZN'][1:],\n",
        "    'Jaccard Similarities for {} Sentiment'.format('AMZN'),\n",
        "    sentiments)"
      ],
      "execution_count": 52,
      "outputs": [
        {
          "output_type": "display_data",
          "data": {
            "image/png": "[encoded data removed]",
            "text/plain": [
              "<Figure size 1440x576 with 1 Axes>"
            ]
          },
          "metadata": {
            "tags": [],
            "needs_background": "light"
          }
        }
      ]
    },
    {
      "cell_type": "markdown",
      "metadata": {
        "id": "cPkh59QeTx2c",
        "colab_type": "text"
      },
      "source": [
        "### TFIDF\n",
        "Using the sentiment word lists, let's generate sentiment TFIDF from the 10-k documents.\n",
        "\n",
        "TFIDF, short for term frequency–inverse document frequency, is a numerical statistic that is intended to reflect how important a word is to a document in a collection or corpus."
      ]
    },
    {
      "cell_type": "code",
      "metadata": {
        "id": "hnU--049Tftz",
        "colab_type": "code",
        "colab": {}
      },
      "source": [
        "from sklearn.feature_extraction.text import TfidfVectorizer\n",
        "\n",
        "\n",
        "def get_tfidf(sentiment_words, docs):\n",
        "    \"\"\"\n",
        "    Generate TFIDF values from documents for a certain sentiment\n",
        "\n",
        "    Parameters --> sentiment_words: Pandas Series (Words that signify a certain sentiment)\n",
        "                   docs : list of str (List of documents used to generate bag of words)\n",
        "\n",
        "    Returns -->  tfidf : 2-d Numpy Ndarray of float\n",
        "                  TFIDF sentiment for each document\n",
        "                  The first dimension is the document.\n",
        "                  The second dimension is the word.\n",
        "    \"\"\"\n",
        "  \n",
        "    # filter out words not in sentiment_words\n",
        "    vectorizer = TfidfVectorizer(vocabulary=sentiment_words.values)\n",
        "    \n",
        "    # build tfidf matrix\n",
        "    tfidf = vectorizer.fit_transform(docs)\n",
        "    \n",
        "    return tfidf.toarray()"
      ],
      "execution_count": 0,
      "outputs": []
    },
    {
      "cell_type": "code",
      "metadata": {
        "id": "pTJElaCaT6DK",
        "colab_type": "code",
        "colab": {}
      },
      "source": [
        "sentiment_tfidf_ten_ks = {}\n",
        "\n",
        "for ticker, ten_ks in ten_ks_by_ticker.items():\n",
        "    lemma_docs = [' '.join(ten_k['file_lemma']) for ten_k in ten_ks]\n",
        "    \n",
        "    sentiment_tfidf_ten_ks[ticker] = {\n",
        "        sentiment: get_tfidf(sentiment_df[sentiment_df[sentiment]]['word'], lemma_docs)\n",
        "        for sentiment in sentiments}"
      ],
      "execution_count": 0,
      "outputs": []
    },
    {
      "cell_type": "code",
      "metadata": {
        "id": "WGCZIzyeiTYG",
        "colab_type": "code",
        "colab": {
          "base_uri": "https://localhost:8080/",
          "height": 176
        },
        "outputId": "23e715fa-1fae-4826-f6ae-ffa310467258"
      },
      "source": [
        "print_ten_k_data([sentiment_tfidf_ten_ks['AMZN']], sentiments)"
      ],
      "execution_count": 55,
      "outputs": [
        {
          "output_type": "stream",
          "text": [
            "[\n",
            "  {\n",
            "    negative: '[[0.         0.         0.         ... 0.        ...\n",
            "    positive: '[[0.19672975 0.         0.         ... 0.        ...\n",
            "    uncertainty: '[[0.         0.         0.         ... 0.00570501...\n",
            "    litigious: '[[0. 0. 0. ... 0. 0. 0.]\\n [0. 0. 0. ... 0. 0. 0....\n",
            "    constraining: '[[0.         0.         0.         ... 0.        ...\n",
            "    interesting: '[[0.01889287 0.         0.         ... 0.        ...},\n",
            "]\n"
          ],
          "name": "stdout"
        }
      ]
    },
    {
      "cell_type": "markdown",
      "metadata": {
        "id": "b6EX-NcIUD-g",
        "colab_type": "text"
      },
      "source": [
        "### Cosine Similarity\n",
        "Using the TFIDF values, we'll calculate the cosine similarity and plot it over time.\n",
        "\n",
        "Cosine similarity is a metric used to measure how similar the documents are irrespective of their size. Mathematically, it measures the cosine of the angle between two vectors projected in a multi-dimensional space.\n"
      ]
    },
    {
      "cell_type": "code",
      "metadata": {
        "id": "Ufo19aYyT_gs",
        "colab_type": "code",
        "colab": {}
      },
      "source": [
        "from sklearn.metrics.pairwise import cosine_similarity\n",
        "\n",
        "\n",
        "def get_cosine_similarity(tfidf_matrix):\n",
        "    \"\"\"\n",
        "    Get cosine similarities for each neighboring TFIDF vector/document\n",
        "\n",
        "    Parameters --> tfidf : 2-d Numpy Ndarray of float\n",
        "                    TFIDF sentiment for each document\n",
        "                    The first dimension is the document.\n",
        "                    The second dimension is the word.\n",
        "\n",
        "    Returns --> cosine_similarities : list of float (Cosine similarities for neighboring documents)\n",
        "    \"\"\"\n",
        "    cosine_similarities = list(np.diag(cosine_similarity(tfidf_matrix, tfidf_matrix), k=1))\n",
        "    \n",
        "    return cosine_similarities"
      ],
      "execution_count": 0,
      "outputs": []
    },
    {
      "cell_type": "code",
      "metadata": {
        "id": "-TqXofViULE1",
        "colab_type": "code",
        "colab": {}
      },
      "source": [
        "cosine_similarities = {\n",
        "    ticker: {\n",
        "        sentiment_name: get_cosine_similarity(sentiment_values)\n",
        "        for sentiment_name, sentiment_values in ten_k_sentiments.items()}\n",
        "    for ticker, ten_k_sentiments in sentiment_tfidf_ten_ks.items()}"
      ],
      "execution_count": 0,
      "outputs": []
    },
    {
      "cell_type": "code",
      "metadata": {
        "id": "OAD_JfXoipje",
        "colab_type": "code",
        "colab": {
          "base_uri": "https://localhost:8080/",
          "height": 521
        },
        "outputId": "78c47e9e-0a21-4a02-f7ac-1b882257cd15"
      },
      "source": [
        "plot_similarities(\n",
        "    [cosine_similarities['AMZN'][sentiment] for sentiment in sentiments],\n",
        "    file_dates['AMZN'][1:],\n",
        "    'Cosine Similarities for {} Sentiment'.format('AMZN'),\n",
        "    sentiments)"
      ],
      "execution_count": 58,
      "outputs": [
        {
          "output_type": "display_data",
          "data": {
            "image/png": "[encoded data removed]",
            "text/plain": [
              "<Figure size 1440x576 with 1 Axes>"
            ]
          },
          "metadata": {
            "tags": [],
            "needs_background": "light"
          }
        }
      ]
    },
    {
      "cell_type": "markdown",
      "metadata": {
        "id": "J7iaqjkvFyzi",
        "colab_type": "text"
      },
      "source": [
        ""
      ]
    },
    {
      "cell_type": "markdown",
      "metadata": {
        "id": "DFtu6Uw1F_YS",
        "colab_type": "text"
      },
      "source": [
        "## 5. Use Cosine Similarity as Alpha Factor\n",
        "Alpha is a measure of the active return on an investment, the performance of that investment compared with a suitable market index. \n",
        "\n",
        "An alpha of 1% means the investment's return on investment over a selected period of time was 1% better than the market during that same period; a negative alpha means the investment underperformed the market."
      ]
    },
    {
      "cell_type": "markdown",
      "metadata": {
        "id": "ElmH7QGQTbxp",
        "colab_type": "text"
      },
      "source": [
        "### Price Data\n",
        "Now we’ll evaluate the alpha factors by comparing them against the yearly pricing for stocks. We can download the pricing data from QuoteMedia."
      ]
    },
    {
      "cell_type": "code",
      "metadata": {
        "id": "HslNNmtnTeiE",
        "colab_type": "code",
        "outputId": "9e1e095e-2b34-4797-c8ee-8ee020af7277",
        "colab": {
          "base_uri": "https://localhost:8080/",
          "height": 360
        }
      },
      "source": [
        "pricing = pd.read_csv('/content/yr-quotemedia.csv', parse_dates=['date'])\n",
        "pricing = pricing.pivot(index='date', columns='ticker', values='adj_close')\n",
        "\n",
        "\n",
        "pricing.tail()"
      ],
      "execution_count": 111,
      "outputs": [
        {
          "output_type": "execute_result",
          "data": {
            "text/html": [
              "<div>\n",
              "<style scoped>\n",
              "    .dataframe tbody tr th:only-of-type {\n",
              "        vertical-align: middle;\n",
              "    }\n",
              "\n",
              "    .dataframe tbody tr th {\n",
              "        vertical-align: top;\n",
              "    }\n",
              "\n",
              "    .dataframe thead th {\n",
              "        text-align: right;\n",
              "    }\n",
              "</style>\n",
              "<table border=\"1\" class=\"dataframe\">\n",
              "  <thead>\n",
              "    <tr style=\"text-align: right;\">\n",
              "      <th>ticker</th>\n",
              "      <th>A</th>\n",
              "      <th>AA</th>\n",
              "      <th>AAAP</th>\n",
              "      <th>AABA</th>\n",
              "      <th>AAC</th>\n",
              "      <th>AADR</th>\n",
              "      <th>AAIT</th>\n",
              "      <th>AAL</th>\n",
              "      <th>AAMC</th>\n",
              "      <th>AAME</th>\n",
              "      <th>AAN</th>\n",
              "      <th>AAOI</th>\n",
              "      <th>AAON</th>\n",
              "      <th>AAP</th>\n",
              "      <th>AAPC</th>\n",
              "      <th>AAPL</th>\n",
              "      <th>AAT</th>\n",
              "      <th>AAU</th>\n",
              "      <th>AAV</th>\n",
              "      <th>AAVL</th>\n",
              "      <th>AAWW</th>\n",
              "      <th>AAXJ</th>\n",
              "      <th>AAXN</th>\n",
              "      <th>AA_P_B</th>\n",
              "      <th>AA_W</th>\n",
              "      <th>AB</th>\n",
              "      <th>ABAC</th>\n",
              "      <th>ABAX</th>\n",
              "      <th>ABB</th>\n",
              "      <th>ABBV</th>\n",
              "      <th>ABC</th>\n",
              "      <th>ABCB</th>\n",
              "      <th>ABCD</th>\n",
              "      <th>ABCO</th>\n",
              "      <th>ABCW</th>\n",
              "      <th>ABDC</th>\n",
              "      <th>ABE</th>\n",
              "      <th>ABEO</th>\n",
              "      <th>ABEOW</th>\n",
              "      <th>ABEV</th>\n",
              "      <th>...</th>\n",
              "      <th>ZIONW</th>\n",
              "      <th>ZIONZ</th>\n",
              "      <th>ZIOP</th>\n",
              "      <th>ZIV</th>\n",
              "      <th>ZIXI</th>\n",
              "      <th>ZJZZT</th>\n",
              "      <th>ZKIN</th>\n",
              "      <th>ZLAB</th>\n",
              "      <th>ZLRG</th>\n",
              "      <th>ZLTQ</th>\n",
              "      <th>ZMH</th>\n",
              "      <th>ZMLP</th>\n",
              "      <th>ZN</th>\n",
              "      <th>ZNGA</th>\n",
              "      <th>ZNH</th>\n",
              "      <th>ZOES</th>\n",
              "      <th>ZOM</th>\n",
              "      <th>ZOOM</th>\n",
              "      <th>ZPIN</th>\n",
              "      <th>ZQK</th>\n",
              "      <th>ZROZ</th>\n",
              "      <th>ZS</th>\n",
              "      <th>ZSAN</th>\n",
              "      <th>ZSL</th>\n",
              "      <th>ZSML</th>\n",
              "      <th>ZSPH</th>\n",
              "      <th>ZTO</th>\n",
              "      <th>ZTR</th>\n",
              "      <th>ZTS</th>\n",
              "      <th>ZU</th>\n",
              "      <th>ZUMZ</th>\n",
              "      <th>ZUO</th>\n",
              "      <th>ZVZZC</th>\n",
              "      <th>ZVZZCNX</th>\n",
              "      <th>ZX</th>\n",
              "      <th>ZXYZ_A</th>\n",
              "      <th>ZYME</th>\n",
              "      <th>ZYNE</th>\n",
              "      <th>ZZK</th>\n",
              "      <th>ZZZ</th>\n",
              "    </tr>\n",
              "    <tr>\n",
              "      <th>date</th>\n",
              "      <th></th>\n",
              "      <th></th>\n",
              "      <th></th>\n",
              "      <th></th>\n",
              "      <th></th>\n",
              "      <th></th>\n",
              "      <th></th>\n",
              "      <th></th>\n",
              "      <th></th>\n",
              "      <th></th>\n",
              "      <th></th>\n",
              "      <th></th>\n",
              "      <th></th>\n",
              "      <th></th>\n",
              "      <th></th>\n",
              "      <th></th>\n",
              "      <th></th>\n",
              "      <th></th>\n",
              "      <th></th>\n",
              "      <th></th>\n",
              "      <th></th>\n",
              "      <th></th>\n",
              "      <th></th>\n",
              "      <th></th>\n",
              "      <th></th>\n",
              "      <th></th>\n",
              "      <th></th>\n",
              "      <th></th>\n",
              "      <th></th>\n",
              "      <th></th>\n",
              "      <th></th>\n",
              "      <th></th>\n",
              "      <th></th>\n",
              "      <th></th>\n",
              "      <th></th>\n",
              "      <th></th>\n",
              "      <th></th>\n",
              "      <th></th>\n",
              "      <th></th>\n",
              "      <th></th>\n",
              "      <th></th>\n",
              "      <th></th>\n",
              "      <th></th>\n",
              "      <th></th>\n",
              "      <th></th>\n",
              "      <th></th>\n",
              "      <th></th>\n",
              "      <th></th>\n",
              "      <th></th>\n",
              "      <th></th>\n",
              "      <th></th>\n",
              "      <th></th>\n",
              "      <th></th>\n",
              "      <th></th>\n",
              "      <th></th>\n",
              "      <th></th>\n",
              "      <th></th>\n",
              "      <th></th>\n",
              "      <th></th>\n",
              "      <th></th>\n",
              "      <th></th>\n",
              "      <th></th>\n",
              "      <th></th>\n",
              "      <th></th>\n",
              "      <th></th>\n",
              "      <th></th>\n",
              "      <th></th>\n",
              "      <th></th>\n",
              "      <th></th>\n",
              "      <th></th>\n",
              "      <th></th>\n",
              "      <th></th>\n",
              "      <th></th>\n",
              "      <th></th>\n",
              "      <th></th>\n",
              "      <th></th>\n",
              "      <th></th>\n",
              "      <th></th>\n",
              "      <th></th>\n",
              "      <th></th>\n",
              "      <th></th>\n",
              "    </tr>\n",
              "  </thead>\n",
              "  <tbody>\n",
              "    <tr>\n",
              "      <th>2014-01-01</th>\n",
              "      <td>39.432387</td>\n",
              "      <td>NaN</td>\n",
              "      <td>NaN</td>\n",
              "      <td>50.51</td>\n",
              "      <td>30.92</td>\n",
              "      <td>36.888991</td>\n",
              "      <td>32.90505</td>\n",
              "      <td>51.899708</td>\n",
              "      <td>310.12</td>\n",
              "      <td>3.947783</td>\n",
              "      <td>30.220552</td>\n",
              "      <td>11.22</td>\n",
              "      <td>21.752898</td>\n",
              "      <td>158.303858</td>\n",
              "      <td>NaN</td>\n",
              "      <td>103.664312</td>\n",
              "      <td>36.367967</td>\n",
              "      <td>0.9400</td>\n",
              "      <td>4.79</td>\n",
              "      <td>54.00</td>\n",
              "      <td>49.30</td>\n",
              "      <td>56.987290</td>\n",
              "      <td>26.48</td>\n",
              "      <td>50.45</td>\n",
              "      <td>NaN</td>\n",
              "      <td>19.155549</td>\n",
              "      <td>6.9200</td>\n",
              "      <td>54.875757</td>\n",
              "      <td>19.716305</td>\n",
              "      <td>57.743669</td>\n",
              "      <td>85.386716</td>\n",
              "      <td>24.936130</td>\n",
              "      <td>1.66</td>\n",
              "      <td>48.980</td>\n",
              "      <td>34.44</td>\n",
              "      <td>8.519642</td>\n",
              "      <td>NaN</td>\n",
              "      <td>3.45</td>\n",
              "      <td>NaN</td>\n",
              "      <td>5.538851</td>\n",
              "      <td>...</td>\n",
              "      <td>4.05</td>\n",
              "      <td>3.20</td>\n",
              "      <td>5.07</td>\n",
              "      <td>41.77</td>\n",
              "      <td>3.60</td>\n",
              "      <td>7100.00</td>\n",
              "      <td>NaN</td>\n",
              "      <td>NaN</td>\n",
              "      <td>NaN</td>\n",
              "      <td>27.91</td>\n",
              "      <td>113.42</td>\n",
              "      <td>25.478754</td>\n",
              "      <td>1.37</td>\n",
              "      <td>2.66</td>\n",
              "      <td>22.534243</td>\n",
              "      <td>29.91</td>\n",
              "      <td>NaN</td>\n",
              "      <td>0.32</td>\n",
              "      <td>15.18</td>\n",
              "      <td>2.210</td>\n",
              "      <td>112.148198</td>\n",
              "      <td>NaN</td>\n",
              "      <td>NaN</td>\n",
              "      <td>59.695</td>\n",
              "      <td>NaN</td>\n",
              "      <td>41.57</td>\n",
              "      <td>NaN</td>\n",
              "      <td>9.447271</td>\n",
              "      <td>41.934134</td>\n",
              "      <td>23.4</td>\n",
              "      <td>38.630</td>\n",
              "      <td>NaN</td>\n",
              "      <td>NaN</td>\n",
              "      <td>NaN</td>\n",
              "      <td>1.4300</td>\n",
              "      <td>NaN</td>\n",
              "      <td>NaN</td>\n",
              "      <td>NaN</td>\n",
              "      <td>100.0</td>\n",
              "      <td>0.50</td>\n",
              "    </tr>\n",
              "    <tr>\n",
              "      <th>2015-01-01</th>\n",
              "      <td>40.798626</td>\n",
              "      <td>NaN</td>\n",
              "      <td>31.27</td>\n",
              "      <td>33.26</td>\n",
              "      <td>19.06</td>\n",
              "      <td>38.069216</td>\n",
              "      <td>30.53000</td>\n",
              "      <td>41.338933</td>\n",
              "      <td>17.16</td>\n",
              "      <td>4.912700</td>\n",
              "      <td>22.203380</td>\n",
              "      <td>17.16</td>\n",
              "      <td>22.763348</td>\n",
              "      <td>149.815380</td>\n",
              "      <td>10.11</td>\n",
              "      <td>100.535790</td>\n",
              "      <td>35.887473</td>\n",
              "      <td>0.6780</td>\n",
              "      <td>5.08</td>\n",
              "      <td>9.52</td>\n",
              "      <td>41.34</td>\n",
              "      <td>51.110528</td>\n",
              "      <td>17.29</td>\n",
              "      <td>33.31</td>\n",
              "      <td>NaN</td>\n",
              "      <td>18.948743</td>\n",
              "      <td>3.6008</td>\n",
              "      <td>54.203667</td>\n",
              "      <td>16.528137</td>\n",
              "      <td>54.012469</td>\n",
              "      <td>99.376933</td>\n",
              "      <td>33.290209</td>\n",
              "      <td>4.85</td>\n",
              "      <td>49.610</td>\n",
              "      <td>43.52</td>\n",
              "      <td>8.794340</td>\n",
              "      <td>10.614846</td>\n",
              "      <td>3.36</td>\n",
              "      <td>1.2001</td>\n",
              "      <td>4.132171</td>\n",
              "      <td>...</td>\n",
              "      <td>3.39</td>\n",
              "      <td>2.21</td>\n",
              "      <td>8.31</td>\n",
              "      <td>41.31</td>\n",
              "      <td>5.08</td>\n",
              "      <td>11.00</td>\n",
              "      <td>NaN</td>\n",
              "      <td>NaN</td>\n",
              "      <td>22.955792</td>\n",
              "      <td>28.53</td>\n",
              "      <td>113.56</td>\n",
              "      <td>14.068041</td>\n",
              "      <td>1.86</td>\n",
              "      <td>2.68</td>\n",
              "      <td>36.192351</td>\n",
              "      <td>27.98</td>\n",
              "      <td>NaN</td>\n",
              "      <td>NaN</td>\n",
              "      <td>15.32</td>\n",
              "      <td>0.455</td>\n",
              "      <td>102.970327</td>\n",
              "      <td>NaN</td>\n",
              "      <td>45.60</td>\n",
              "      <td>64.550</td>\n",
              "      <td>21.7500</td>\n",
              "      <td>89.98</td>\n",
              "      <td>NaN</td>\n",
              "      <td>8.959081</td>\n",
              "      <td>47.036619</td>\n",
              "      <td>17.4</td>\n",
              "      <td>15.120</td>\n",
              "      <td>NaN</td>\n",
              "      <td>NaN</td>\n",
              "      <td>NaN</td>\n",
              "      <td>0.7900</td>\n",
              "      <td>14.1</td>\n",
              "      <td>NaN</td>\n",
              "      <td>10.07</td>\n",
              "      <td>100.0</td>\n",
              "      <td>1.00</td>\n",
              "    </tr>\n",
              "    <tr>\n",
              "      <th>2016-01-01</th>\n",
              "      <td>44.939092</td>\n",
              "      <td>28.08</td>\n",
              "      <td>26.76</td>\n",
              "      <td>38.67</td>\n",
              "      <td>7.24</td>\n",
              "      <td>39.819593</td>\n",
              "      <td>NaN</td>\n",
              "      <td>46.089912</td>\n",
              "      <td>53.50</td>\n",
              "      <td>4.053202</td>\n",
              "      <td>31.846957</td>\n",
              "      <td>23.44</td>\n",
              "      <td>32.656992</td>\n",
              "      <td>168.596157</td>\n",
              "      <td>9.84</td>\n",
              "      <td>113.083528</td>\n",
              "      <td>41.334093</td>\n",
              "      <td>0.9688</td>\n",
              "      <td>6.75</td>\n",
              "      <td>4.14</td>\n",
              "      <td>52.15</td>\n",
              "      <td>53.508889</td>\n",
              "      <td>24.24</td>\n",
              "      <td>30.90</td>\n",
              "      <td>21.44</td>\n",
              "      <td>20.244467</td>\n",
              "      <td>3.6177</td>\n",
              "      <td>51.908785</td>\n",
              "      <td>19.641728</td>\n",
              "      <td>59.347748</td>\n",
              "      <td>76.191885</td>\n",
              "      <td>43.070709</td>\n",
              "      <td>4.99</td>\n",
              "      <td>33.250</td>\n",
              "      <td>47.86</td>\n",
              "      <td>10.134808</td>\n",
              "      <td>11.090456</td>\n",
              "      <td>4.85</td>\n",
              "      <td>3.3200</td>\n",
              "      <td>4.717285</td>\n",
              "      <td>...</td>\n",
              "      <td>11.75</td>\n",
              "      <td>8.65</td>\n",
              "      <td>5.35</td>\n",
              "      <td>46.54</td>\n",
              "      <td>4.94</td>\n",
              "      <td>10.12</td>\n",
              "      <td>NaN</td>\n",
              "      <td>NaN</td>\n",
              "      <td>27.170000</td>\n",
              "      <td>43.52</td>\n",
              "      <td>NaN</td>\n",
              "      <td>16.679425</td>\n",
              "      <td>1.37</td>\n",
              "      <td>2.57</td>\n",
              "      <td>24.892730</td>\n",
              "      <td>23.99</td>\n",
              "      <td>NaN</td>\n",
              "      <td>NaN</td>\n",
              "      <td>15.11</td>\n",
              "      <td>NaN</td>\n",
              "      <td>105.079139</td>\n",
              "      <td>NaN</td>\n",
              "      <td>15.60</td>\n",
              "      <td>38.760</td>\n",
              "      <td>26.5877</td>\n",
              "      <td>NaN</td>\n",
              "      <td>11.910975</td>\n",
              "      <td>9.763192</td>\n",
              "      <td>52.982185</td>\n",
              "      <td>NaN</td>\n",
              "      <td>21.850</td>\n",
              "      <td>NaN</td>\n",
              "      <td>100.01</td>\n",
              "      <td>14.26</td>\n",
              "      <td>1.1989</td>\n",
              "      <td>8.0</td>\n",
              "      <td>NaN</td>\n",
              "      <td>15.59</td>\n",
              "      <td>100.0</td>\n",
              "      <td>25.00</td>\n",
              "    </tr>\n",
              "    <tr>\n",
              "      <th>2017-01-01</th>\n",
              "      <td>66.653918</td>\n",
              "      <td>53.87</td>\n",
              "      <td>81.62</td>\n",
              "      <td>69.85</td>\n",
              "      <td>9.00</td>\n",
              "      <td>58.835707</td>\n",
              "      <td>NaN</td>\n",
              "      <td>51.803585</td>\n",
              "      <td>81.60</td>\n",
              "      <td>3.378882</td>\n",
              "      <td>39.797356</td>\n",
              "      <td>37.82</td>\n",
              "      <td>36.522919</td>\n",
              "      <td>99.593649</td>\n",
              "      <td>10.60</td>\n",
              "      <td>167.901180</td>\n",
              "      <td>37.654925</td>\n",
              "      <td>1.0300</td>\n",
              "      <td>4.30</td>\n",
              "      <td>NaN</td>\n",
              "      <td>58.65</td>\n",
              "      <td>75.858764</td>\n",
              "      <td>26.50</td>\n",
              "      <td>NaN</td>\n",
              "      <td>NaN</td>\n",
              "      <td>23.647773</td>\n",
              "      <td>2.9500</td>\n",
              "      <td>49.294281</td>\n",
              "      <td>25.861168</td>\n",
              "      <td>95.032866</td>\n",
              "      <td>91.062109</td>\n",
              "      <td>48.019353</td>\n",
              "      <td>5.68</td>\n",
              "      <td>53.825</td>\n",
              "      <td>NaN</td>\n",
              "      <td>7.952247</td>\n",
              "      <td>14.540000</td>\n",
              "      <td>15.85</td>\n",
              "      <td>11.6000</td>\n",
              "      <td>6.383574</td>\n",
              "      <td>...</td>\n",
              "      <td>18.80</td>\n",
              "      <td>14.75</td>\n",
              "      <td>4.14</td>\n",
              "      <td>88.65</td>\n",
              "      <td>4.38</td>\n",
              "      <td>13.75</td>\n",
              "      <td>9.80</td>\n",
              "      <td>21.23</td>\n",
              "      <td>27.620000</td>\n",
              "      <td>56.48</td>\n",
              "      <td>NaN</td>\n",
              "      <td>15.550614</td>\n",
              "      <td>2.16</td>\n",
              "      <td>4.00</td>\n",
              "      <td>51.071082</td>\n",
              "      <td>16.72</td>\n",
              "      <td>1.9771</td>\n",
              "      <td>NaN</td>\n",
              "      <td>18.20</td>\n",
              "      <td>NaN</td>\n",
              "      <td>120.593382</td>\n",
              "      <td>NaN</td>\n",
              "      <td>10.40</td>\n",
              "      <td>31.400</td>\n",
              "      <td>26.9000</td>\n",
              "      <td>NaN</td>\n",
              "      <td>15.641173</td>\n",
              "      <td>12.643875</td>\n",
              "      <td>71.815333</td>\n",
              "      <td>NaN</td>\n",
              "      <td>20.825</td>\n",
              "      <td>NaN</td>\n",
              "      <td>100.10</td>\n",
              "      <td>NaN</td>\n",
              "      <td>1.2165</td>\n",
              "      <td>NaN</td>\n",
              "      <td>7.5931</td>\n",
              "      <td>12.52</td>\n",
              "      <td>25.0</td>\n",
              "      <td>0.01</td>\n",
              "    </tr>\n",
              "    <tr>\n",
              "      <th>2018-01-01</th>\n",
              "      <td>61.800000</td>\n",
              "      <td>46.88</td>\n",
              "      <td>81.63</td>\n",
              "      <td>73.35</td>\n",
              "      <td>9.81</td>\n",
              "      <td>52.880000</td>\n",
              "      <td>NaN</td>\n",
              "      <td>37.990000</td>\n",
              "      <td>67.90</td>\n",
              "      <td>2.575000</td>\n",
              "      <td>43.740000</td>\n",
              "      <td>46.00</td>\n",
              "      <td>35.250000</td>\n",
              "      <td>135.860000</td>\n",
              "      <td>NaN</td>\n",
              "      <td>185.400000</td>\n",
              "      <td>38.860000</td>\n",
              "      <td>0.7100</td>\n",
              "      <td>3.10</td>\n",
              "      <td>NaN</td>\n",
              "      <td>71.45</td>\n",
              "      <td>70.250000</td>\n",
              "      <td>64.98</td>\n",
              "      <td>NaN</td>\n",
              "      <td>NaN</td>\n",
              "      <td>28.750000</td>\n",
              "      <td>2.5537</td>\n",
              "      <td>83.250000</td>\n",
              "      <td>21.480000</td>\n",
              "      <td>94.480000</td>\n",
              "      <td>87.200000</td>\n",
              "      <td>53.100000</td>\n",
              "      <td>12.03</td>\n",
              "      <td>NaN</td>\n",
              "      <td>NaN</td>\n",
              "      <td>6.530000</td>\n",
              "      <td>14.695000</td>\n",
              "      <td>16.20</td>\n",
              "      <td>11.1600</td>\n",
              "      <td>4.720000</td>\n",
              "      <td>...</td>\n",
              "      <td>20.00</td>\n",
              "      <td>16.24</td>\n",
              "      <td>3.11</td>\n",
              "      <td>72.86</td>\n",
              "      <td>5.50</td>\n",
              "      <td>12.20</td>\n",
              "      <td>4.04</td>\n",
              "      <td>23.32</td>\n",
              "      <td>NaN</td>\n",
              "      <td>NaN</td>\n",
              "      <td>NaN</td>\n",
              "      <td>14.812000</td>\n",
              "      <td>3.95</td>\n",
              "      <td>4.13</td>\n",
              "      <td>36.550000</td>\n",
              "      <td>10.16</td>\n",
              "      <td>2.2100</td>\n",
              "      <td>NaN</td>\n",
              "      <td>NaN</td>\n",
              "      <td>NaN</td>\n",
              "      <td>115.750000</td>\n",
              "      <td>36.67</td>\n",
              "      <td>4.68</td>\n",
              "      <td>34.910</td>\n",
              "      <td>NaN</td>\n",
              "      <td>NaN</td>\n",
              "      <td>19.450000</td>\n",
              "      <td>11.450000</td>\n",
              "      <td>86.150000</td>\n",
              "      <td>NaN</td>\n",
              "      <td>24.300</td>\n",
              "      <td>26.74</td>\n",
              "      <td>NaN</td>\n",
              "      <td>NaN</td>\n",
              "      <td>1.3800</td>\n",
              "      <td>NaN</td>\n",
              "      <td>15.3400</td>\n",
              "      <td>9.17</td>\n",
              "      <td>NaN</td>\n",
              "      <td>NaN</td>\n",
              "    </tr>\n",
              "  </tbody>\n",
              "</table>\n",
              "<p>5 rows × 11941 columns</p>\n",
              "</div>"
            ],
            "text/plain": [
              "ticker              A     AA   AAAP   AABA  ...     ZYME   ZYNE    ZZK    ZZZ\n",
              "date                                        ...                              \n",
              "2014-01-01  39.432387    NaN    NaN  50.51  ...      NaN    NaN  100.0   0.50\n",
              "2015-01-01  40.798626    NaN  31.27  33.26  ...      NaN  10.07  100.0   1.00\n",
              "2016-01-01  44.939092  28.08  26.76  38.67  ...      NaN  15.59  100.0  25.00\n",
              "2017-01-01  66.653918  53.87  81.62  69.85  ...   7.5931  12.52   25.0   0.01\n",
              "2018-01-01  61.800000  46.88  81.63  73.35  ...  15.3400   9.17    NaN    NaN\n",
              "\n",
              "[5 rows x 11941 columns]"
            ]
          },
          "metadata": {
            "tags": []
          },
          "execution_count": 111
        }
      ]
    },
    {
      "cell_type": "code",
      "metadata": {
        "id": "Zj_Nl0k-UNN4",
        "colab_type": "code",
        "outputId": "097949a5-841f-4132-bb9d-f58eac6fe507",
        "colab": {
          "base_uri": "https://localhost:8080/",
          "height": 197
        }
      },
      "source": [
        "cosine_similarities_df_dict = {'date': [], 'ticker': [], 'sentiment': [], 'value': []}\n",
        "\n",
        "\n",
        "for ticker, ten_k_sentiments in cosine_similarities.items():\n",
        "    for sentiment_name, sentiment_values in ten_k_sentiments.items():\n",
        "        for sentiment_values, sentiment_value in enumerate(sentiment_values):\n",
        "            cosine_similarities_df_dict['ticker'].append(ticker)\n",
        "            cosine_similarities_df_dict['sentiment'].append(sentiment_name)\n",
        "            cosine_similarities_df_dict['value'].append(sentiment_value)\n",
        "            cosine_similarities_df_dict['date'].append(file_dates[ticker][1:][sentiment_values])\n",
        "\n",
        "cosine_similarities_df = pd.DataFrame(cosine_similarities_df_dict)\n",
        "cosine_similarities_df['date'] = pd.DatetimeIndex(cosine_similarities_df['date']).year\n",
        "cosine_similarities_df['date'] = pd.to_datetime(cosine_similarities_df['date'], format='%Y')\n",
        "\n",
        "\n",
        "cosine_similarities_df.head()"
      ],
      "execution_count": 112,
      "outputs": [
        {
          "output_type": "execute_result",
          "data": {
            "text/html": [
              "<div>\n",
              "<style scoped>\n",
              "    .dataframe tbody tr th:only-of-type {\n",
              "        vertical-align: middle;\n",
              "    }\n",
              "\n",
              "    .dataframe tbody tr th {\n",
              "        vertical-align: top;\n",
              "    }\n",
              "\n",
              "    .dataframe thead th {\n",
              "        text-align: right;\n",
              "    }\n",
              "</style>\n",
              "<table border=\"1\" class=\"dataframe\">\n",
              "  <thead>\n",
              "    <tr style=\"text-align: right;\">\n",
              "      <th></th>\n",
              "      <th>date</th>\n",
              "      <th>ticker</th>\n",
              "      <th>sentiment</th>\n",
              "      <th>value</th>\n",
              "    </tr>\n",
              "  </thead>\n",
              "  <tbody>\n",
              "    <tr>\n",
              "      <th>0</th>\n",
              "      <td>2019-01-01</td>\n",
              "      <td>AMZN</td>\n",
              "      <td>negative</td>\n",
              "      <td>0.974958</td>\n",
              "    </tr>\n",
              "    <tr>\n",
              "      <th>1</th>\n",
              "      <td>2018-01-01</td>\n",
              "      <td>AMZN</td>\n",
              "      <td>negative</td>\n",
              "      <td>0.973553</td>\n",
              "    </tr>\n",
              "    <tr>\n",
              "      <th>2</th>\n",
              "      <td>2017-01-01</td>\n",
              "      <td>AMZN</td>\n",
              "      <td>negative</td>\n",
              "      <td>0.959390</td>\n",
              "    </tr>\n",
              "    <tr>\n",
              "      <th>3</th>\n",
              "      <td>2016-01-01</td>\n",
              "      <td>AMZN</td>\n",
              "      <td>negative</td>\n",
              "      <td>0.981287</td>\n",
              "    </tr>\n",
              "    <tr>\n",
              "      <th>4</th>\n",
              "      <td>2015-01-01</td>\n",
              "      <td>AMZN</td>\n",
              "      <td>negative</td>\n",
              "      <td>0.959012</td>\n",
              "    </tr>\n",
              "  </tbody>\n",
              "</table>\n",
              "</div>"
            ],
            "text/plain": [
              "        date ticker sentiment     value\n",
              "0 2019-01-01   AMZN  negative  0.974958\n",
              "1 2018-01-01   AMZN  negative  0.973553\n",
              "2 2017-01-01   AMZN  negative  0.959390\n",
              "3 2016-01-01   AMZN  negative  0.981287\n",
              "4 2015-01-01   AMZN  negative  0.959012"
            ]
          },
          "metadata": {
            "tags": []
          },
          "execution_count": 112
        }
      ]
    },
    {
      "cell_type": "code",
      "metadata": {
        "id": "euSRW1SElivC",
        "colab_type": "code",
        "colab": {}
      },
      "source": [
        "import alphalens as al\n",
        "\n",
        "\n",
        "factor_data = {}\n",
        "skipped_sentiments = []\n",
        "\n",
        "for sentiment in sentiments:\n",
        "    cs_df = cosine_similarities_df[(cosine_similarities_df['sentiment'] == sentiment)]\n",
        "    cs_df = cs_df.pivot(index='date', columns='ticker', values='value')\n",
        "\n",
        "    try:\n",
        "        data = al.utils.get_clean_factor_and_forward_returns(cs_df.stack(), pricing, quantiles=5, bins=None, periods=[1])\n",
        "        factor_data[sentiment] = data\n",
        "    except Exception as e:\n",
        "      print(e)\n",
        "      skipped_sentiments.append(sentiment)\n",
        "\n",
        "if skipped_sentiments:\n",
        "    print('\\nSkipped the following sentiments:\\n{}'.format('\\n'.join(skipped_sentiments)))\n",
        "factor_data[sentiments[0]].head()"
      ],
      "execution_count": 0,
      "outputs": []
    },
    {
      "cell_type": "markdown",
      "metadata": {
        "id": "FUUPnI6vUJzu",
        "colab_type": "text"
      },
      "source": [
        "### Alphalens Format with Unix Time\n",
        "Alphalen's factor_rank_autocorrelation and mean_return_by_quantile functions require unix timestamps to work, so we'll also create factor dataframes with unix time."
      ]
    },
    {
      "cell_type": "code",
      "metadata": {
        "id": "45QQ7LfYYDAM",
        "colab_type": "code",
        "colab": {}
      },
      "source": [
        "unixt_factor_data = {\n",
        "    factor: data.set_index(pd.MultiIndex.from_tuples(\n",
        "        [(x.timestamp(), y) for x, y in data.index.values],\n",
        "        names=['date', 'asset']))\n",
        "    for factor, data in factor_data.items()}"
      ],
      "execution_count": 0,
      "outputs": []
    },
    {
      "cell_type": "markdown",
      "metadata": {
        "id": "Y_EvuE3pUTT8",
        "colab_type": "text"
      },
      "source": [
        "### Factor Returns\n",
        "The factor return refers to the return on investment contributed by one particular factor. Here we'' calculate the returns based on the sentiments. \n",
        "\n",
        "Let's view the factor returns over time. We should be seeing it generally move up and to the right."
      ]
    },
    {
      "cell_type": "code",
      "metadata": {
        "id": "Idf7SACxYFAG",
        "colab_type": "code",
        "outputId": "47f07844-295e-4938-9231-7e1a670e37c0",
        "colab": {
          "base_uri": "https://localhost:8080/",
          "height": 296
        }
      },
      "source": [
        "ls_factor_returns = pd.DataFrame()\n",
        "\n",
        "for factor_name, data in factor_data.items():\n",
        "    ls_factor_returns[factor_name] = al.performance.factor_returns(data).iloc[:, 0]\n",
        "\n",
        "(1 + ls_factor_returns).cumprod().plot()"
      ],
      "execution_count": 0,
      "outputs": [
        {
          "output_type": "execute_result",
          "data": {
            "text/plain": [
              "<matplotlib.axes._subplots.AxesSubplot at 0x7fc87eb38080>"
            ]
          },
          "metadata": {
            "tags": []
          },
          "execution_count": 42
        },
        {
          "output_type": "display_data",
          "data": {
            "image/png": "[encoded data removed]",
            "text/plain": [
              "<Figure size 432x288 with 1 Axes>"
            ]
          },
          "metadata": {
            "tags": [],
            "needs_background": "light"
          }
        }
      ]
    },
    {
      "cell_type": "markdown",
      "metadata": {
        "id": "kwTtODDRHb-K",
        "colab_type": "text"
      },
      "source": [
        "As expected, 10-k reports expressing positive sentiment produced the most gains while 10-k reports containing negative sentiment resulted in the most losses."
      ]
    },
    {
      "cell_type": "markdown",
      "metadata": {
        "id": "GFqLn3rYUfSI",
        "colab_type": "text"
      },
      "source": [
        "\n",
        "### Basis Points Per Day per Quantile\n",
        "It is not enough to look just at the factor weighted return. A good alpha is also monotonic in quantiles. Let's looks the basis points for the factor returns."
      ]
    },
    {
      "cell_type": "code",
      "metadata": {
        "id": "L4_aTE2MUZup",
        "colab_type": "code",
        "outputId": "49a8e64d-8c6e-4876-c735-2e7d8a155043",
        "colab": {
          "base_uri": "https://localhost:8080/",
          "height": 648
        }
      },
      "source": [
        "qr_factor_returns = pd.DataFrame()\n",
        "\n",
        "for factor_name, data in unixt_factor_data.items():\n",
        "    qr_factor_returns[factor_name] = al.performance.mean_return_by_quantile(data)[0].iloc[:, 0]\n",
        "\n",
        "(10000*qr_factor_returns).plot.bar(\n",
        "    subplots=True,\n",
        "    sharey=True,\n",
        "    layout=(5,3),\n",
        "    figsize=(14, 14),\n",
        "    legend=False)"
      ],
      "execution_count": 0,
      "outputs": [
        {
          "output_type": "execute_result",
          "data": {
            "text/plain": [
              "array([[<matplotlib.axes._subplots.AxesSubplot object at 0x7fc87ef27e10>,\n",
              "        <matplotlib.axes._subplots.AxesSubplot object at 0x7fc87eeae630>,\n",
              "        <matplotlib.axes._subplots.AxesSubplot object at 0x7fc87ee775f8>],\n",
              "       [<matplotlib.axes._subplots.AxesSubplot object at 0x7fc87ee4c5f8>,\n",
              "        <matplotlib.axes._subplots.AxesSubplot object at 0x7fc87edd4da0>,\n",
              "        <matplotlib.axes._subplots.AxesSubplot object at 0x7fc87ede3e10>],\n",
              "       [<matplotlib.axes._subplots.AxesSubplot object at 0x7fc87edebef0>,\n",
              "        <matplotlib.axes._subplots.AxesSubplot object at 0x7fc87ee153c8>,\n",
              "        <matplotlib.axes._subplots.AxesSubplot object at 0x7fc87ee15940>],\n",
              "       [<matplotlib.axes._subplots.AxesSubplot object at 0x7fc87ed96d68>,\n",
              "        <matplotlib.axes._subplots.AxesSubplot object at 0x7fc87ee43588>,\n",
              "        <matplotlib.axes._subplots.AxesSubplot object at 0x7fc87eda7f60>],\n",
              "       [<matplotlib.axes._subplots.AxesSubplot object at 0x7fc87ed90320>,\n",
              "        <matplotlib.axes._subplots.AxesSubplot object at 0x7fc87eee6a58>,\n",
              "        <matplotlib.axes._subplots.AxesSubplot object at 0x7fc87eeedd30>]],\n",
              "      dtype=object)"
            ]
          },
          "metadata": {
            "tags": []
          },
          "execution_count": 43
        },
        {
          "output_type": "display_data",
          "data": {
            "image/png": "[encoded data removed]",
            "text/plain": [
              "<Figure size 1008x1008 with 15 Axes>"
            ]
          },
          "metadata": {
            "tags": [],
            "needs_background": "light"
          }
        }
      ]
    },
    {
      "cell_type": "markdown",
      "metadata": {
        "id": "0axOlPoFUsE1",
        "colab_type": "text"
      },
      "source": [
        "### Turnover Analysis\n",
        "Without doing a full and formal backtest, we can analyze how stable the alphas are over time. Stability in this sense means that from period to period, the alpha ranks do not change much. Since trading is costly, we always prefer, all other things being equal, that the ranks do not change significantly per period. We can measure this with the Factor Rank Autocorrelation (FRA)"
      ]
    },
    {
      "cell_type": "code",
      "metadata": {
        "id": "gp3xC5l-UkYA",
        "colab_type": "code",
        "outputId": "a94adc06-5d76-41d0-a342-4163ea62d6bd",
        "colab": {
          "base_uri": "https://localhost:8080/",
          "height": 312
        }
      },
      "source": [
        "ls_FRA = pd.DataFrame()\n",
        "\n",
        "for factor, data in unixt_factor_data.items():\n",
        "    ls_FRA[factor] = al.performance.factor_rank_autocorrelation(data)\n",
        "\n",
        "ls_FRA.plot(title=\"Factor Rank Autocorrelation\")"
      ],
      "execution_count": 0,
      "outputs": [
        {
          "output_type": "execute_result",
          "data": {
            "text/plain": [
              "<matplotlib.axes._subplots.AxesSubplot at 0x7fc87ed72550>"
            ]
          },
          "metadata": {
            "tags": []
          },
          "execution_count": 44
        },
        {
          "output_type": "display_data",
          "data": {
            "image/png": "[encoded data removed]",
            "text/plain": [
              "<Figure size 432x288 with 1 Axes>"
            ]
          },
          "metadata": {
            "tags": [],
            "needs_background": "light"
          }
        }
      ]
    },
    {
      "cell_type": "markdown",
      "metadata": {
        "id": "OrXOBA6mU0AU",
        "colab_type": "text"
      },
      "source": [
        "### Sharpe Ratio of the Alphas\n",
        "The last analysis we'll do on the factors will be sharpe ratio. Let's see what the sharpe ratio for the factors are. Generally, a Sharpe Ratio of near 1.0 or higher is an acceptable single alpha for this universe."
      ]
    },
    {
      "cell_type": "code",
      "metadata": {
        "id": "ofM7ZRjJUwBj",
        "colab_type": "code",
        "outputId": "db2debd3-dcf3-41dd-8fa5-b950d22be4fa",
        "colab": {
          "base_uri": "https://localhost:8080/",
          "height": 141
        }
      },
      "source": [
        "daily_annualization_factor = np.sqrt(252)\n",
        "\n",
        "(daily_annualization_factor * ls_factor_returns.mean() / ls_factor_returns.std()).round(2)"
      ],
      "execution_count": 0,
      "outputs": [
        {
          "output_type": "execute_result",
          "data": {
            "text/plain": [
              "negative       -0.03\n",
              "positive        4.12\n",
              "uncertainty     2.98\n",
              "litigious       1.96\n",
              "constraining    1.29\n",
              "interesting     2.72\n",
              "dtype: float64"
            ]
          },
          "metadata": {
            "tags": []
          },
          "execution_count": 45
        }
      ]
    }
  ]
}